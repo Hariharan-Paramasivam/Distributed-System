{
 "cells": [
  {
   "cell_type": "code",
   "execution_count": null,
   "id": "b755a7d4-df42-4c05-bac6-b9b4502347b9",
   "metadata": {},
   "outputs": [
    {
     "name": "stdout",
     "output_type": "stream",
     "text": [
      "Welcome to the Chat Room\n",
      "\n"
     ]
    },
    {
     "name": "stdin",
     "output_type": "stream",
     "text": [
      "Enter friend's IP address: 10.11.138.48\n",
      "Enter Friend's name:  shraven\n"
     ]
    },
    {
     "name": "stdout",
     "output_type": "stream",
     "text": [
      "shraven  has joined...\n",
      "shraven : hello buddy\n"
     ]
    },
    {
     "name": "stdin",
     "output_type": "stream",
     "text": [
      "Me :  solra\n"
     ]
    },
    {
     "name": "stdout",
     "output_type": "stream",
     "text": [
      "shraven : thungu da\n"
     ]
    },
    {
     "name": "stdin",
     "output_type": "stream",
     "text": [
      "Me :  poda venna\n"
     ]
    },
    {
     "name": "stdout",
     "output_type": "stream",
     "text": [
      "shraven : good bye\n"
     ]
    }
   ],
   "source": [
    "import time, socket, sys\n",
    " \n",
    "socket_server = socket.socket()\n",
    "server_host = socket.gethostname()\n",
    "ip = socket.gethostbyname(server_host)\n",
    "sport = 8080\n",
    "\n",
    "print(\"Welcome to the Chat Room\\n\")\n",
    "server_host = input('Enter friend\\'s IP address:')\n",
    "name = input('Enter Friend\\'s name: ')\n",
    " \n",
    " \n",
    "socket_server.connect((server_host, sport))\n",
    " \n",
    "socket_server.send(name.encode())\n",
    "server_name = socket_server.recv(1024)\n",
    "server_name = server_name.decode()\n",
    " \n",
    "print(server_name,' has joined...')\n",
    "while True:\n",
    "    message = (socket_server.recv(1024)).decode()\n",
    "    print(server_name, \":\", message)\n",
    "    message = input(\"Me : \")\n",
    "    socket_server.send(message.encode())"
   ]
  },
  {
   "cell_type": "code",
   "execution_count": null,
   "id": "02a98a48-831a-400a-a636-d4d0c1907a72",
   "metadata": {},
   "outputs": [],
   "source": []
  }
 ],
 "metadata": {
  "kernelspec": {
   "display_name": "Python 3 (ipykernel)",
   "language": "python",
   "name": "python3"
  },
  "language_info": {
   "codemirror_mode": {
    "name": "ipython",
    "version": 3
   },
   "file_extension": ".py",
   "mimetype": "text/x-python",
   "name": "python",
   "nbconvert_exporter": "python",
   "pygments_lexer": "ipython3",
   "version": "3.10.11"
  }
 },
 "nbformat": 4,
 "nbformat_minor": 5
}
