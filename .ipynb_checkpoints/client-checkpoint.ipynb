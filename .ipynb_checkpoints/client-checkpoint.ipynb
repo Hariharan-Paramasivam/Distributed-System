{
 "cells": [
  {
   "cell_type": "code",
   "execution_count": null,
   "id": "b755a7d4-df42-4c05-bac6-b9b4502347b9",
   "metadata": {},
   "outputs": [],
   "source": [
    "import time, socket, sys\n",
    " \n",
    "socket_server = socket.socket()\n",
    "server_host = socket.gethostname()\n",
    "ip = socket.gethostbyname(server_host)\n",
    "sport = 8080\n",
    "\n",
    "print(\"Welcome to the Chat Room\\n\")\n",
    "server_host = input('Enter friend\\'s IP address:')\n",
    "name = input('Enter Friend\\'s name: ')\n",
    " \n",
    " \n",
    "socket_server.connect((server_host, sport))\n",
    " \n",
    "socket_server.send(name.encode())\n",
    "server_name = socket_server.recv(1024)\n",
    "server_name = server_name.decode()\n",
    " \n",
    "print(server_name,' has joined...')\n",
    "while True:\n",
    "    message = (socket_server.recv(1024)).decode()\n",
    "    print(server_name, \":\", message)\n",
    "    message = input(\"Me : \")\n",
    "    socket_server.send(message.encode())"
   ]
  }
 ],
 "metadata": {
  "kernelspec": {
   "display_name": "Python 3 (ipykernel)",
   "language": "python",
   "name": "python3"
  },
  "language_info": {
   "codemirror_mode": {
    "name": "ipython",
    "version": 3
   },
   "file_extension": ".py",
   "mimetype": "text/x-python",
   "name": "python",
   "nbconvert_exporter": "python",
   "pygments_lexer": "ipython3",
   "version": "3.10.11"
  }
 },
 "nbformat": 4,
 "nbformat_minor": 5
}
